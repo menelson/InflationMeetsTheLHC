{
 "cells": [
  {
   "cell_type": "markdown",
   "metadata": {},
   "source": [
    "## Imports"
   ]
  },
  {
   "cell_type": "code",
   "execution_count": 1,
   "metadata": {},
   "outputs": [],
   "source": [
    "from __future__ import division\n",
    "import numpy as np\n",
    "from scipy.integrate import odeint\n",
    "from scipy.interpolate import interp1d\n",
    "from matplotlib import pyplot as plt\n",
    "import math\n",
    "from matplotlib import cm\n",
    "import matplotlib as mpl\n",
    "%matplotlib inline"
   ]
  },
  {
   "cell_type": "markdown",
   "metadata": {},
   "source": [
    "## Class of constants"
   ]
  },
  {
   "cell_type": "code",
   "execution_count": 2,
   "metadata": {},
   "outputs": [],
   "source": [
    "class Constants(object):\n",
    "    \"\"\"Here we simply define a class that contains the constants necessary within the problem.\"\"\"\n",
    "    \n",
    "    def __init__(self, lambda_hs_0 = 0, lambda_s_0 = 0.01, lambda_h_0 = 0.13):\n",
    "        \n",
    "        # Initial values at scale mt\n",
    "        self.g_0 = 0.64\n",
    "        self.g_pr_0 = 0.35  \n",
    "        self.g3_0 = 1.16  \n",
    "        self.yt_0 = 0.93  \n",
    "        self.mh = 125  # GeV\n",
    "        self.lambda_h_0 = lambda_h_0\n",
    "        \n",
    "        # Change the sign of lambda_s(mt) depending on the value of lambda_h(mt)\n",
    "        if (self.lambda_h_0 - 0.13) >= 0:\n",
    "            self.lambda_s_0 = lambda_s_0\n",
    "        else:\n",
    "            self.lambda_s_0 = -lambda_s_0\n",
    "        \n",
    "        # Calculate lambda_hs(mt) according to Equation (10) of [Lebedev 2012]\n",
    "        self.lambda_hs_0 = np.sqrt(4 * self.lambda_s_0 * (self.lambda_h_0 - 0.13))"
   ]
  },
  {
   "cell_type": "markdown",
   "metadata": {},
   "source": [
    "## Class for solving the system of RGEs at a given list of scales"
   ]
  },
  {
   "cell_type": "code",
   "execution_count": 3,
   "metadata": {},
   "outputs": [],
   "source": [
    "class Solver(object):\n",
    "    \"\"\"This class solves a system of equations for calculating the evolution of the Higgs self-coupling\"\"\"\n",
    "    \n",
    "    def __init__(self, t, constants):\n",
    "        self.constants = constants\n",
    "        self.t = t\n",
    "        \n",
    "    def dsdt(self, s, t):\n",
    "        \n",
    "        lambda_h, lambda_hs, lambda_s, yt, g, g_pr, g3 = s\n",
    "\n",
    "        lambda_h_prime = (24 * lambda_h**2 - 6 * yt**4 + 3 * (2 * g**4 + (g**2 + g_pr**2)**2)/8 + (-9 * g**2 - 3 * g_pr**2 + 12 * yt**2) * lambda_h + lambda_hs**2/2)/(16 * np.pi**2)  \n",
    "        lambda_hs_prime = (4 * lambda_hs**2 + 12 * lambda_h * lambda_hs - 3 * (3 * g**2 + g_pr**2) * lambda_hs/2 + 6 * yt**2 * lambda_hs + 6 * lambda_s * lambda_hs)/(16 * np.pi**2)  \n",
    "        lambda_s_prime = (2 * lambda_hs**2 + 18 * lambda_s**2)/(16 * np.pi**2)  \n",
    "        yt_prime = (9 * yt**2/2 - 17 * g_pr**2/12 - 9 * g**2/4 - 8 * g3**2) * yt/(16 * np.pi**2)  \n",
    "        g_prime = (-19 * g**3/6)/(16 * np.pi**2)  \n",
    "        g_pr_prime = (41 * g_pr**3/6)/(16 * np.pi**2)  \n",
    "        g3_prime = (-7 * g3**3)/(16 * np.pi**2)  \n",
    "\n",
    "        dsdt = [lambda_h_prime, lambda_hs_prime, lambda_s_prime, yt_prime, g_prime, g_pr_prime, g3_prime]\n",
    "        return dsdt\n",
    "       \n",
    "    def solve(self):\n",
    "        lambda_h_0 = self.constants.lambda_h_0\n",
    "        lambda_hs_0 = self.constants.lambda_hs_0\n",
    "        lambda_s_0 = self.constants.lambda_s_0\n",
    "        yt_0 = self.constants.yt_0\n",
    "        g_0 = self.constants.g_0\n",
    "        g_pr_0 = self.constants.g_pr_0\n",
    "        g3_0 = self.constants.g3_0\n",
    "        s0 = [lambda_h_0, lambda_hs_0, lambda_s_0, yt_0, g_0, g_pr_0, g3_0]\n",
    "        sol = odeint(self.dsdt, s0, self.t)\n",
    "        return sol"
   ]
  },
  {
   "cell_type": "code",
   "execution_count": 4,
   "metadata": {},
   "outputs": [],
   "source": [
    "def func(a, row):\n",
    "    '''Interpolating function'''\n",
    "    p = a[:,row]\n",
    "    return lambda t: np.interp(t, tlist, p)"
   ]
  },
  {
   "cell_type": "markdown",
   "metadata": {},
   "source": [
    "## Results"
   ]
  },
  {
   "cell_type": "code",
   "execution_count": 5,
   "metadata": {},
   "outputs": [
    {
     "data": {
      "image/png": "[encoded data removed]",
      "text/plain": [
       "<Figure size 432x288 with 2 Axes>"
      ]
     },
     "metadata": {
      "needs_background": "light"
     },
     "output_type": "display_data"
    }
   ],
   "source": [
    "tlist = np.linspace(0, 25, 10001)\n",
    "\n",
    "# Bounds on lambda_h(mt) from ATLAS\n",
    "lambda_SM_0 = 0.13\n",
    "lambda_h_0_min = -5.0 * lambda_SM_0\n",
    "lambda_h_0_max = 1.9 * lambda_SM_0  # 12.0 * lambda_SM_0\n",
    "lambda_h_0_list = np.linspace(lambda_h_0_min, lambda_h_0_max, 1000)\n",
    "\n",
    "mycmap = cm.Reds\n",
    "    \n",
    "# Solve the system of equations for all values of lambda_h_0 between the bounds\n",
    "for j, lambda_h_0_item in enumerate(lambda_h_0_list):\n",
    "    C = Constants(lambda_h_0 = lambda_h_0_item) \n",
    "    sol = Solver(tlist, constants = C).solve()\n",
    "    lambda_h = func(sol, 0)\n",
    "    lambda_hs = func(sol, 1)\n",
    "    lambda_s = func(sol, 2)\n",
    "    yt = func(sol, 3)\n",
    "    g = func(sol, 4)\n",
    "    g_pr = func(sol, 5)\n",
    "    g3 = func(sol, 6)       \n",
    "        \n",
    "    norm = plt.Normalize(vmin = lambda_h_0_min, vmax = lambda_h_0_max)\n",
    "    plt.plot(tlist, lambda_h(tlist), color = mycmap(norm(lambda_h_0_item)))            \n",
    "    plt.axhline(y = 0, linestyle='dashed', c = 'grey')\n",
    "    plt.ylabel(r'$\\lambda_h$')\n",
    "    plt.xlabel('$t$')\n",
    "        \n",
    "sm = plt.cm.ScalarMappable(cmap = mycmap, norm = plt.Normalize(vmin = lambda_h_0_min, vmax = lambda_h_0_max))\n",
    "sm.set_array(mycmap(lambda_h_0_list))\n",
    "cb = plt.colorbar(sm)\n",
    "cb.ax.set_xlabel(r'$\\lambda_{h}(m_t)$')\n",
    "plt.legend()\n",
    "plt.savefig('lambda_h_bounds+lambda_s_0=' + str(C.lambda_s_0) + '.pdf', bbox_inches=\"tight\")\n",
    "plt.show()"
   ]
  },
  {
   "cell_type": "code",
   "execution_count": 6,
   "metadata": {},
   "outputs": [],
   "source": [
    "#tlist = np.linspace(0, 25, 10001)\n",
    "\n",
    "#C = Constants(lambda_hs_0 = 0.045, lambda_s_0 = 20.0, lambda_h_0 = 1.56) \n",
    "#sol = Solver(tlist, constants = C).solve()\n",
    "#lambda_h = func(sol, 0)\n",
    "#lambda_hs = func(sol, 1)\n",
    "#lambda_s = func(sol, 2)\n",
    "#yt = func(sol, 3)\n",
    "#g = func(sol, 4)\n",
    "#g_pr = func(sol, 5)\n",
    "#g3 = func(sol, 6)       \n",
    "        \n",
    "#plt.plot(tlist, lambda_h(tlist))            \n",
    "#plt.axhline(y = 0, linestyle='dashed', c = 'grey')\n",
    "#plt.ylabel(r'$\\lambda_h$')\n",
    "#plt.xlabel('$t$')\n",
    "#plt.show()\n",
    "\n",
    "#plt.plot(tlist, lambda_hs(tlist))            \n",
    "#plt.axhline(y = 0, linestyle='dashed', c = 'grey')\n",
    "#plt.ylabel(r'$\\lambda_{hs}$')\n",
    "#plt.xlabel('$t$')\n",
    "#plt.show()\n",
    "\n",
    "#plt.plot(tlist, lambda_s(tlist))            \n",
    "#plt.axhline(y = 0, linestyle='dashed', c = 'grey')\n",
    "#plt.ylabel(r'$\\lambda_{s}$')\n",
    "#plt.xlabel('$t$')\n",
    "#plt.show()"
   ]
  },
  {
   "cell_type": "code",
   "execution_count": null,
   "metadata": {},
   "outputs": [],
   "source": []
  }
 ],
 "metadata": {
  "kernelspec": {
   "display_name": "Python 2",
   "language": "python",
   "name": "python2"
  },
  "language_info": {
   "codemirror_mode": {
    "name": "ipython",
    "version": 2
   },
   "file_extension": ".py",
   "mimetype": "text/x-python",
   "name": "python",
   "nbconvert_exporter": "python",
   "pygments_lexer": "ipython2",
   "version": "2.7.17"
  }
 },
 "nbformat": 4,
 "nbformat_minor": 2
}
